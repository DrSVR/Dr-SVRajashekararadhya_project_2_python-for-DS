{
 "cells": [
  {
   "cell_type": "markdown",
   "id": "02c16eb1",
   "metadata": {},
   "source": [
    "### Graded Project\n",
    "Machine Learning - Unsupervised Learning"
   ]
  },
  {
   "cell_type": "markdown",
   "id": "96e2b811",
   "metadata": {},
   "source": [
    "### Domain:\n",
    "○ E-commerce\n",
    "Business Context:\n",
    "● Customer segmentation is one of the most important marketing tools at your\n",
    "disposal, because it can help a business to better understand its target audience.\n",
    "This is because it groups customers based on common characteristics.\n",
    "● Segmentation can be based on the customer’s habits and lifestyle, in\n",
    "particular, their buying habits. Different age groups, for example, tend to\n",
    "spend their money in different ways, so brands need to be aware of who\n",
    "exactly is buying their product.\n",
    "● Segmentation also focuses more on the personality of the consumer,\n",
    "including their opinions, interests, reviews, and rating. Breaking down a\n",
    "large customer base into more manageable clusters, making it easier to\n",
    "identify your target audience and launch campaigns and promote the\n",
    "business to the most relevant people\n",
    "Dataset Description:\n",
    "The dataset contains measurements of clothing fit from RentTheRunway.\n",
    "RentTheRunWay is a unique platform that allows women to rent clothes for\n",
    "various occasions. The collected data is of several categories. This dataset\n",
    "contains self-reported fit feedback from customers as well as other side\n",
    "information like reviews, ratings, product categories, catalog sizes, customers’\n",
    "measurements (etc.)"
   ]
  },
  {
   "cell_type": "markdown",
   "id": "0e5b1aa4",
   "metadata": {},
   "source": [
    "### Attribute Information:\n",
    "SL.No Attribute and Description\n",
    "1. user_id - a unique id for the customer\n",
    "2. item_id - unique product id\n",
    "3. weight - weight measurement of customer\n",
    "4. rented - for purpose clothing was rented for\n",
    "5. body type - body type of customer\n",
    "6. review_text - review given by the customer\n",
    "7. size - the standardized size of the product\n",
    "8. rating - rating for the product\n",
    "9. age - age of the customer\n",
    "10. category - the category of the product\n",
    "11. bust size - bust measurement of customer\n",
    "12. height - height of the customer\n",
    "13. review_date - date when the review was written\n",
    "14. fit - fit feedback"
   ]
  },
  {
   "cell_type": "markdown",
   "id": "b00d22aa",
   "metadata": {},
   "source": [
    "### Data Citation:\n",
    "● Rishabh Misra, Mengting Wan, Julian McAuley \"Decomposing Fit Semantics\n",
    "for Product Size Recommendation in Metric Spaces\". RecSys, 2018.\n",
    "● Rishabh Misra, Jigyasa Grover \"Sculpting Data for ML: The first act of\n",
    "Machine Learning\". 2021."
   ]
  },
  {
   "cell_type": "markdown",
   "id": "6596e422",
   "metadata": {},
   "source": [
    "### Project Objective:\n",
    "Based on the given users and items data of an e-commerce company, segment\n",
    "the similar user and items into suitable clusters. Analyze the clusters and provide\n",
    "your insights to help the organization promote their business."
   ]
  },
  {
   "cell_type": "markdown",
   "id": "e125aea9",
   "metadata": {},
   "source": [
    "### Import the required libraries and load the data: [ Score: 3 point ]"
   ]
  },
  {
   "cell_type": "markdown",
   "id": "f67edeb2",
   "metadata": {},
   "source": [
    "1. Load the required libraries and read the dataset. (1)"
   ]
  },
  {
   "cell_type": "code",
   "execution_count": 21,
   "id": "52122440",
   "metadata": {},
   "outputs": [],
   "source": [
    "import pandas as pd\n",
    "import numpy as np\n",
    "import matplotlib.pyplot as plt\n",
    "import seaborn as sns\n",
    "import warnings\n",
    "warnings.filterwarnings('ignore')\n",
    "\n",
    "from sklearn.preprocessing import StandardScaler,LabelEncoder\n",
    "from scipy import stats\n",
    "from sklearn.cluster import KMeans\n",
    "from scipy.stats import zscore\n",
    "from scipy.spatial import distance\n",
    "from scipy.cluster.hierarchy import linkage,dendrogram,fcluster\n",
    "from sklearn.cluster import AgglomerativeClustering\n",
    "from sklearn.decomposition import PCA\n",
    "from sklearn.model_selection import train_test_split\n",
    "from sklearn import preprocessing\n",
    "from sklearn.preprocessing import Normalizer"
   ]
  },
  {
   "cell_type": "code",
   "execution_count": 22,
   "id": "9fd1a0b7",
   "metadata": {},
   "outputs": [],
   "source": [
    "df=pd.read_csv(\"renttherunway.csv\")"
   ]
  },
  {
   "cell_type": "markdown",
   "id": "c9995c84",
   "metadata": {},
   "source": [
    "2. Check the first few samples, shape, info of the data and try to familiarize\n",
    "yourself with different features (2)"
   ]
  },
  {
   "cell_type": "code",
   "execution_count": 23,
   "id": "70ec4b96",
   "metadata": {},
   "outputs": [
    {
     "data": {
      "text/html": [
       "<div>\n",
       "<style scoped>\n",
       "    .dataframe tbody tr th:only-of-type {\n",
       "        vertical-align: middle;\n",
       "    }\n",
       "\n",
       "    .dataframe tbody tr th {\n",
       "        vertical-align: top;\n",
       "    }\n",
       "\n",
       "    .dataframe thead th {\n",
       "        text-align: right;\n",
       "    }\n",
       "</style>\n",
       "<table border=\"1\" class=\"dataframe\">\n",
       "  <thead>\n",
       "    <tr style=\"text-align: right;\">\n",
       "      <th></th>\n",
       "      <th>Unnamed: 0</th>\n",
       "      <th>fit</th>\n",
       "      <th>user_id</th>\n",
       "      <th>bust size</th>\n",
       "      <th>item_id</th>\n",
       "      <th>weight</th>\n",
       "      <th>rating</th>\n",
       "      <th>rented for</th>\n",
       "      <th>review_text</th>\n",
       "      <th>body type</th>\n",
       "      <th>review_summary</th>\n",
       "      <th>category</th>\n",
       "      <th>height</th>\n",
       "      <th>size</th>\n",
       "      <th>age</th>\n",
       "      <th>review_date</th>\n",
       "    </tr>\n",
       "  </thead>\n",
       "  <tbody>\n",
       "    <tr>\n",
       "      <th>0</th>\n",
       "      <td>0</td>\n",
       "      <td>fit</td>\n",
       "      <td>420272</td>\n",
       "      <td>34d</td>\n",
       "      <td>2260466</td>\n",
       "      <td>137lbs</td>\n",
       "      <td>10.0</td>\n",
       "      <td>vacation</td>\n",
       "      <td>An adorable romper! Belt and zipper were a lit...</td>\n",
       "      <td>hourglass</td>\n",
       "      <td>So many compliments!</td>\n",
       "      <td>romper</td>\n",
       "      <td>5' 8\"</td>\n",
       "      <td>14</td>\n",
       "      <td>28.0</td>\n",
       "      <td>April 20, 2016</td>\n",
       "    </tr>\n",
       "    <tr>\n",
       "      <th>1</th>\n",
       "      <td>1</td>\n",
       "      <td>fit</td>\n",
       "      <td>273551</td>\n",
       "      <td>34b</td>\n",
       "      <td>153475</td>\n",
       "      <td>132lbs</td>\n",
       "      <td>10.0</td>\n",
       "      <td>other</td>\n",
       "      <td>I rented this dress for a photo shoot. The the...</td>\n",
       "      <td>straight &amp; narrow</td>\n",
       "      <td>I felt so glamourous!!!</td>\n",
       "      <td>gown</td>\n",
       "      <td>5' 6\"</td>\n",
       "      <td>12</td>\n",
       "      <td>36.0</td>\n",
       "      <td>June 18, 2013</td>\n",
       "    </tr>\n",
       "    <tr>\n",
       "      <th>2</th>\n",
       "      <td>2</td>\n",
       "      <td>fit</td>\n",
       "      <td>360448</td>\n",
       "      <td>NaN</td>\n",
       "      <td>1063761</td>\n",
       "      <td>NaN</td>\n",
       "      <td>10.0</td>\n",
       "      <td>party</td>\n",
       "      <td>This hugged in all the right places! It was a ...</td>\n",
       "      <td>NaN</td>\n",
       "      <td>It was a great time to celebrate the (almost) ...</td>\n",
       "      <td>sheath</td>\n",
       "      <td>5' 4\"</td>\n",
       "      <td>4</td>\n",
       "      <td>116.0</td>\n",
       "      <td>December 14, 2015</td>\n",
       "    </tr>\n",
       "    <tr>\n",
       "      <th>3</th>\n",
       "      <td>3</td>\n",
       "      <td>fit</td>\n",
       "      <td>909926</td>\n",
       "      <td>34c</td>\n",
       "      <td>126335</td>\n",
       "      <td>135lbs</td>\n",
       "      <td>8.0</td>\n",
       "      <td>formal affair</td>\n",
       "      <td>I rented this for my company's black tie award...</td>\n",
       "      <td>pear</td>\n",
       "      <td>Dress arrived on time and in perfect condition.</td>\n",
       "      <td>dress</td>\n",
       "      <td>5' 5\"</td>\n",
       "      <td>8</td>\n",
       "      <td>34.0</td>\n",
       "      <td>February 12, 2014</td>\n",
       "    </tr>\n",
       "    <tr>\n",
       "      <th>4</th>\n",
       "      <td>4</td>\n",
       "      <td>fit</td>\n",
       "      <td>151944</td>\n",
       "      <td>34b</td>\n",
       "      <td>616682</td>\n",
       "      <td>145lbs</td>\n",
       "      <td>10.0</td>\n",
       "      <td>wedding</td>\n",
       "      <td>I have always been petite in my upper body and...</td>\n",
       "      <td>athletic</td>\n",
       "      <td>Was in love with this dress !!!</td>\n",
       "      <td>gown</td>\n",
       "      <td>5' 9\"</td>\n",
       "      <td>12</td>\n",
       "      <td>27.0</td>\n",
       "      <td>September 26, 2016</td>\n",
       "    </tr>\n",
       "  </tbody>\n",
       "</table>\n",
       "</div>"
      ],
      "text/plain": [
       "   Unnamed: 0  fit  user_id bust size  item_id  weight  rating     rented for  \\\n",
       "0           0  fit   420272       34d  2260466  137lbs    10.0       vacation   \n",
       "1           1  fit   273551       34b   153475  132lbs    10.0          other   \n",
       "2           2  fit   360448       NaN  1063761     NaN    10.0          party   \n",
       "3           3  fit   909926       34c   126335  135lbs     8.0  formal affair   \n",
       "4           4  fit   151944       34b   616682  145lbs    10.0        wedding   \n",
       "\n",
       "                                         review_text          body type  \\\n",
       "0  An adorable romper! Belt and zipper were a lit...          hourglass   \n",
       "1  I rented this dress for a photo shoot. The the...  straight & narrow   \n",
       "2  This hugged in all the right places! It was a ...                NaN   \n",
       "3  I rented this for my company's black tie award...               pear   \n",
       "4  I have always been petite in my upper body and...           athletic   \n",
       "\n",
       "                                      review_summary category height  size  \\\n",
       "0                               So many compliments!   romper  5' 8\"    14   \n",
       "1                            I felt so glamourous!!!     gown  5' 6\"    12   \n",
       "2  It was a great time to celebrate the (almost) ...   sheath  5' 4\"     4   \n",
       "3   Dress arrived on time and in perfect condition.     dress  5' 5\"     8   \n",
       "4                    Was in love with this dress !!!     gown  5' 9\"    12   \n",
       "\n",
       "     age         review_date  \n",
       "0   28.0      April 20, 2016  \n",
       "1   36.0       June 18, 2013  \n",
       "2  116.0   December 14, 2015  \n",
       "3   34.0   February 12, 2014  \n",
       "4   27.0  September 26, 2016  "
      ]
     },
     "execution_count": 23,
     "metadata": {},
     "output_type": "execute_result"
    }
   ],
   "source": [
    "df.head()"
   ]
  },
  {
   "cell_type": "code",
   "execution_count": 24,
   "id": "a28a3dad",
   "metadata": {},
   "outputs": [
    {
     "data": {
      "text/plain": [
       "(192544, 16)"
      ]
     },
     "execution_count": 24,
     "metadata": {},
     "output_type": "execute_result"
    }
   ],
   "source": [
    "df.shape"
   ]
  },
  {
   "cell_type": "code",
   "execution_count": 25,
   "id": "4b7d2031",
   "metadata": {},
   "outputs": [
    {
     "name": "stdout",
     "output_type": "stream",
     "text": [
      "<class 'pandas.core.frame.DataFrame'>\n",
      "RangeIndex: 192544 entries, 0 to 192543\n",
      "Data columns (total 16 columns):\n",
      " #   Column          Non-Null Count   Dtype  \n",
      "---  ------          --------------   -----  \n",
      " 0   Unnamed: 0      192544 non-null  int64  \n",
      " 1   fit             192544 non-null  object \n",
      " 2   user_id         192544 non-null  int64  \n",
      " 3   bust size       174133 non-null  object \n",
      " 4   item_id         192544 non-null  int64  \n",
      " 5   weight          162562 non-null  object \n",
      " 6   rating          192462 non-null  float64\n",
      " 7   rented for      192534 non-null  object \n",
      " 8   review_text     192482 non-null  object \n",
      " 9   body type       177907 non-null  object \n",
      " 10  review_summary  192199 non-null  object \n",
      " 11  category        192544 non-null  object \n",
      " 12  height          191867 non-null  object \n",
      " 13  size            192544 non-null  int64  \n",
      " 14  age             191584 non-null  float64\n",
      " 15  review_date     192544 non-null  object \n",
      "dtypes: float64(2), int64(4), object(10)\n",
      "memory usage: 23.5+ MB\n"
     ]
    }
   ],
   "source": [
    "df.info()"
   ]
  },
  {
   "cell_type": "code",
   "execution_count": 26,
   "id": "0f4fd378",
   "metadata": {},
   "outputs": [
    {
     "data": {
      "text/html": [
       "<div>\n",
       "<style scoped>\n",
       "    .dataframe tbody tr th:only-of-type {\n",
       "        vertical-align: middle;\n",
       "    }\n",
       "\n",
       "    .dataframe tbody tr th {\n",
       "        vertical-align: top;\n",
       "    }\n",
       "\n",
       "    .dataframe thead th {\n",
       "        text-align: right;\n",
       "    }\n",
       "</style>\n",
       "<table border=\"1\" class=\"dataframe\">\n",
       "  <thead>\n",
       "    <tr style=\"text-align: right;\">\n",
       "      <th></th>\n",
       "      <th>Unnamed: 0</th>\n",
       "      <th>user_id</th>\n",
       "      <th>item_id</th>\n",
       "      <th>rating</th>\n",
       "      <th>size</th>\n",
       "      <th>age</th>\n",
       "    </tr>\n",
       "  </thead>\n",
       "  <tbody>\n",
       "    <tr>\n",
       "      <th>count</th>\n",
       "      <td>192544.000000</td>\n",
       "      <td>192544.000000</td>\n",
       "      <td>1.925440e+05</td>\n",
       "      <td>192462.000000</td>\n",
       "      <td>192544.000000</td>\n",
       "      <td>191584.000000</td>\n",
       "    </tr>\n",
       "    <tr>\n",
       "      <th>mean</th>\n",
       "      <td>96271.500000</td>\n",
       "      <td>499494.100149</td>\n",
       "      <td>1.045684e+06</td>\n",
       "      <td>9.092371</td>\n",
       "      <td>12.245175</td>\n",
       "      <td>33.871017</td>\n",
       "    </tr>\n",
       "    <tr>\n",
       "      <th>std</th>\n",
       "      <td>55582.809453</td>\n",
       "      <td>289059.719328</td>\n",
       "      <td>8.053148e+05</td>\n",
       "      <td>1.430044</td>\n",
       "      <td>8.494877</td>\n",
       "      <td>8.058083</td>\n",
       "    </tr>\n",
       "    <tr>\n",
       "      <th>min</th>\n",
       "      <td>0.000000</td>\n",
       "      <td>9.000000</td>\n",
       "      <td>1.233730e+05</td>\n",
       "      <td>2.000000</td>\n",
       "      <td>0.000000</td>\n",
       "      <td>0.000000</td>\n",
       "    </tr>\n",
       "    <tr>\n",
       "      <th>25%</th>\n",
       "      <td>48135.750000</td>\n",
       "      <td>250654.250000</td>\n",
       "      <td>1.950760e+05</td>\n",
       "      <td>8.000000</td>\n",
       "      <td>8.000000</td>\n",
       "      <td>29.000000</td>\n",
       "    </tr>\n",
       "    <tr>\n",
       "      <th>50%</th>\n",
       "      <td>96271.500000</td>\n",
       "      <td>499419.000000</td>\n",
       "      <td>9.483960e+05</td>\n",
       "      <td>10.000000</td>\n",
       "      <td>12.000000</td>\n",
       "      <td>32.000000</td>\n",
       "    </tr>\n",
       "    <tr>\n",
       "      <th>75%</th>\n",
       "      <td>144407.250000</td>\n",
       "      <td>750974.000000</td>\n",
       "      <td>1.678888e+06</td>\n",
       "      <td>10.000000</td>\n",
       "      <td>16.000000</td>\n",
       "      <td>37.000000</td>\n",
       "    </tr>\n",
       "    <tr>\n",
       "      <th>max</th>\n",
       "      <td>192543.000000</td>\n",
       "      <td>999997.000000</td>\n",
       "      <td>2.966087e+06</td>\n",
       "      <td>10.000000</td>\n",
       "      <td>58.000000</td>\n",
       "      <td>117.000000</td>\n",
       "    </tr>\n",
       "  </tbody>\n",
       "</table>\n",
       "</div>"
      ],
      "text/plain": [
       "          Unnamed: 0        user_id       item_id         rating  \\\n",
       "count  192544.000000  192544.000000  1.925440e+05  192462.000000   \n",
       "mean    96271.500000  499494.100149  1.045684e+06       9.092371   \n",
       "std     55582.809453  289059.719328  8.053148e+05       1.430044   \n",
       "min         0.000000       9.000000  1.233730e+05       2.000000   \n",
       "25%     48135.750000  250654.250000  1.950760e+05       8.000000   \n",
       "50%     96271.500000  499419.000000  9.483960e+05      10.000000   \n",
       "75%    144407.250000  750974.000000  1.678888e+06      10.000000   \n",
       "max    192543.000000  999997.000000  2.966087e+06      10.000000   \n",
       "\n",
       "                size            age  \n",
       "count  192544.000000  191584.000000  \n",
       "mean       12.245175      33.871017  \n",
       "std         8.494877       8.058083  \n",
       "min         0.000000       0.000000  \n",
       "25%         8.000000      29.000000  \n",
       "50%        12.000000      32.000000  \n",
       "75%        16.000000      37.000000  \n",
       "max        58.000000     117.000000  "
      ]
     },
     "execution_count": 26,
     "metadata": {},
     "output_type": "execute_result"
    }
   ],
   "source": [
    "df.describe()"
   ]
  },
  {
   "cell_type": "code",
   "execution_count": 27,
   "id": "ecdde1b7",
   "metadata": {},
   "outputs": [
    {
     "data": {
      "text/plain": [
       "Unnamed: 0         0.000000\n",
       "fit                0.000000\n",
       "user_id            0.000000\n",
       "bust size          9.561970\n",
       "item_id            0.000000\n",
       "weight            15.571506\n",
       "rating             0.042588\n",
       "rented for         0.005194\n",
       "review_text        0.032200\n",
       "body type          7.601899\n",
       "review_summary     0.179180\n",
       "category           0.000000\n",
       "height             0.351608\n",
       "size               0.000000\n",
       "age                0.498587\n",
       "review_date        0.000000\n",
       "dtype: float64"
      ]
     },
     "execution_count": 27,
     "metadata": {},
     "output_type": "execute_result"
    }
   ],
   "source": [
    "df.isnull().sum()/len(df) * 100"
   ]
  },
  {
   "cell_type": "markdown",
   "id": "19da3d52",
   "metadata": {},
   "source": [
    "### Data cleansing and Exploratory data analysis: [ Score: 20 point ]"
   ]
  },
  {
   "cell_type": "markdown",
   "id": "6a1242bd",
   "metadata": {},
   "source": [
    "3. Check if there are any duplicate records in the dataset? If any, drop them.(1)"
   ]
  },
  {
   "cell_type": "code",
   "execution_count": 28,
   "id": "0291d21f",
   "metadata": {},
   "outputs": [
    {
     "data": {
      "text/plain": [
       "0"
      ]
     },
     "execution_count": 28,
     "metadata": {},
     "output_type": "execute_result"
    }
   ],
   "source": [
    "len(df[df.duplicated()])"
   ]
  },
  {
   "cell_type": "markdown",
   "id": "f38cc102",
   "metadata": {},
   "source": [
    "4. Drop the columns which you think redundant for the analysis.(Hint: drop\n",
    "columns like ‘id’, ‘review’) (1)"
   ]
  },
  {
   "cell_type": "code",
   "execution_count": 29,
   "id": "5a2af90a",
   "metadata": {},
   "outputs": [
    {
     "data": {
      "text/plain": [
       "Index(['Unnamed: 0', 'fit', 'user_id', 'bust size', 'item_id', 'weight',\n",
       "       'rating', 'rented for', 'review_text', 'body type', 'review_summary',\n",
       "       'category', 'height', 'size', 'age', 'review_date'],\n",
       "      dtype='object')"
      ]
     },
     "execution_count": 29,
     "metadata": {},
     "output_type": "execute_result"
    }
   ],
   "source": [
    "df.columns"
   ]
  },
  {
   "cell_type": "code",
   "execution_count": 30,
   "id": "244151ab",
   "metadata": {},
   "outputs": [],
   "source": [
    "df=df.drop(['Unnamed: 0','user_id','item_id','review_text','review_summary','review_date'],axis=1)"
   ]
  },
  {
   "cell_type": "code",
   "execution_count": 31,
   "id": "162ae400",
   "metadata": {},
   "outputs": [
    {
     "data": {
      "text/plain": [
       "Index(['fit', 'bust size', 'weight', 'rating', 'rented for', 'body type',\n",
       "       'category', 'height', 'size', 'age'],\n",
       "      dtype='object')"
      ]
     },
     "execution_count": 31,
     "metadata": {},
     "output_type": "execute_result"
    }
   ],
   "source": [
    "df.columns"
   ]
  },
  {
   "cell_type": "markdown",
   "id": "5e981282",
   "metadata": {},
   "source": [
    "Q5. Check the column 'weight', Is there any presence of string data? If yes, remove\n",
    "the string data and convert to float. (Hint: 'weight' has the suffix as lbs) (2)"
   ]
  },
  {
   "cell_type": "code",
   "execution_count": 32,
   "id": "55789b11",
   "metadata": {},
   "outputs": [
    {
     "data": {
      "text/plain": [
       "0         137lbs\n",
       "1         132lbs\n",
       "2            NaN\n",
       "3         135lbs\n",
       "4         145lbs\n",
       "           ...  \n",
       "192539    140lbs\n",
       "192540    100lbs\n",
       "192541    135lbs\n",
       "192542    165lbs\n",
       "192543    155lbs\n",
       "Name: weight, Length: 192544, dtype: object"
      ]
     },
     "execution_count": 32,
     "metadata": {},
     "output_type": "execute_result"
    }
   ],
   "source": [
    "df['weight']"
   ]
  },
  {
   "cell_type": "code",
   "execution_count": 33,
   "id": "fe73f6fc",
   "metadata": {},
   "outputs": [],
   "source": [
    "df['weight']=pd.to_numeric(df['weight'].str.replace('lbs',''))"
   ]
  },
  {
   "cell_type": "code",
   "execution_count": 34,
   "id": "c33fa9bc",
   "metadata": {},
   "outputs": [
    {
     "data": {
      "text/plain": [
       "0         137.0\n",
       "1         132.0\n",
       "2           NaN\n",
       "3         135.0\n",
       "4         145.0\n",
       "          ...  \n",
       "192539    140.0\n",
       "192540    100.0\n",
       "192541    135.0\n",
       "192542    165.0\n",
       "192543    155.0\n",
       "Name: weight, Length: 192544, dtype: float64"
      ]
     },
     "execution_count": 34,
     "metadata": {},
     "output_type": "execute_result"
    }
   ],
   "source": [
    "df['weight']"
   ]
  },
  {
   "cell_type": "markdown",
   "id": "2fa734ff",
   "metadata": {},
   "source": [
    "Q6. Check the unique categories for the column 'rented for' and group 'party:\n",
    "cocktail' category with 'party'. (2)"
   ]
  },
  {
   "cell_type": "code",
   "execution_count": 42,
   "id": "8a8cf33c",
   "metadata": {},
   "outputs": [
    {
     "data": {
      "text/plain": [
       "array(['vacation', 'other', 'party', 'formal affair', 'wedding', 'date',\n",
       "       'everyday', 'work', nan, 'party: cocktail'], dtype=object)"
      ]
     },
     "execution_count": 42,
     "metadata": {},
     "output_type": "execute_result"
    }
   ],
   "source": [
    "df['rented for'].unique()"
   ]
  },
  {
   "cell_type": "code",
   "execution_count": 45,
   "id": "dfb7c5e9",
   "metadata": {},
   "outputs": [],
   "source": [
    "df['rented for'] =df['rented for'].replace(['party', 'party: cocktail' ], 'party' )"
   ]
  },
  {
   "cell_type": "code",
   "execution_count": 46,
   "id": "83db678d",
   "metadata": {},
   "outputs": [
    {
     "data": {
      "text/plain": [
       "array(['vacation', 'other', 'party', 'formal affair', 'wedding', 'date',\n",
       "       'everyday', 'work', nan], dtype=object)"
      ]
     },
     "execution_count": 46,
     "metadata": {},
     "output_type": "execute_result"
    }
   ],
   "source": [
    "df['rented for'].unique()"
   ]
  },
  {
   "cell_type": "markdown",
   "id": "1ba8a761",
   "metadata": {},
   "source": [
    "Q7. The column 'height' is in feet with a quotation mark, Convert to inches with\n",
    "float datatype. (3)"
   ]
  },
  {
   "cell_type": "code",
   "execution_count": 47,
   "id": "867f9bad",
   "metadata": {},
   "outputs": [
    {
     "data": {
      "text/plain": [
       "0         5' 8\"\n",
       "1         5' 6\"\n",
       "2         5' 4\"\n",
       "3         5' 5\"\n",
       "4         5' 9\"\n",
       "          ...  \n",
       "192539    5' 9\"\n",
       "192540    5' 1\"\n",
       "192541    5' 8\"\n",
       "192542    5' 6\"\n",
       "192543    5' 6\"\n",
       "Name: height, Length: 192544, dtype: object"
      ]
     },
     "execution_count": 47,
     "metadata": {},
     "output_type": "execute_result"
    }
   ],
   "source": [
    "df['height']"
   ]
  },
  {
   "cell_type": "code",
   "execution_count": 50,
   "id": "66e85070",
   "metadata": {},
   "outputs": [],
   "source": [
    "df['height']=df['height'].str.replace('\"','')"
   ]
  },
  {
   "cell_type": "code",
   "execution_count": 51,
   "id": "1aea1c3b",
   "metadata": {},
   "outputs": [
    {
     "data": {
      "text/plain": [
       "0         5' 8\n",
       "1         5' 6\n",
       "2         5' 4\n",
       "3         5' 5\n",
       "4         5' 9\n",
       "          ... \n",
       "192539    5' 9\n",
       "192540    5' 1\n",
       "192541    5' 8\n",
       "192542    5' 6\n",
       "192543    5' 6\n",
       "Name: height, Length: 192544, dtype: object"
      ]
     },
     "execution_count": 51,
     "metadata": {},
     "output_type": "execute_result"
    }
   ],
   "source": [
    "df['height']"
   ]
  },
  {
   "cell_type": "code",
   "execution_count": 53,
   "id": "47d5ff96",
   "metadata": {},
   "outputs": [
    {
     "data": {
      "text/plain": [
       "0         68.0\n",
       "1         66.0\n",
       "2         64.0\n",
       "3         65.0\n",
       "4         69.0\n",
       "          ... \n",
       "192539    69.0\n",
       "192540    61.0\n",
       "192541    68.0\n",
       "192542    66.0\n",
       "192543    66.0\n",
       "Name: height, Length: 192544, dtype: float64"
      ]
     },
     "execution_count": 53,
     "metadata": {},
     "output_type": "execute_result"
    }
   ],
   "source": [
    "df[\"height\"] = (df.height.str.split(\"'\").str[0].astype(float)*12) + (\n",
    "    df.height.str.split(\"'\").str[1].astype(float))\n",
    "df['height']"
   ]
  },
  {
   "cell_type": "markdown",
   "id": "c26a55be",
   "metadata": {},
   "source": [
    "Q8. Check for missing values in each column of the dataset? If it exists, impute\n",
    "them with appropriate methods. (3)"
   ]
  },
  {
   "cell_type": "code",
   "execution_count": 54,
   "id": "71c0bbea",
   "metadata": {},
   "outputs": [
    {
     "data": {
      "text/plain": [
       "fit            0.000000\n",
       "bust size      9.561970\n",
       "weight        15.571506\n",
       "rating         0.042588\n",
       "rented for     0.005194\n",
       "body type      7.601899\n",
       "category       0.000000\n",
       "height         0.351608\n",
       "size           0.000000\n",
       "age            0.498587\n",
       "dtype: float64"
      ]
     },
     "execution_count": 54,
     "metadata": {},
     "output_type": "execute_result"
    }
   ],
   "source": [
    "df.isnull().sum()/len(df) * 100"
   ]
  },
  {
   "cell_type": "code",
   "execution_count": 57,
   "id": "6cfa7003",
   "metadata": {},
   "outputs": [],
   "source": [
    "missing_values = df.isnull().sum()/len(df)\n",
    "index = [i for i in missing_values[missing_values>0].index]\n",
    "numerical_columns = [i   for i in index   if i in df.columns and df[i].dtype!=object]\n",
    "categorical_columns = [i   for i in index   if i in df.columns and df[i].dtype==object]\n",
    "\n",
    "for columns in numerical_columns:\n",
    "    df[columns]=df[columns].fillna(df[columns].median())\n",
    "for columns in categorical_columns:\n",
    "    df[columns]=df[columns].fillna(df[columns].mode()[0])    "
   ]
  },
  {
   "cell_type": "code",
   "execution_count": 58,
   "id": "f5e3d5c5",
   "metadata": {},
   "outputs": [
    {
     "data": {
      "text/plain": [
       "fit           0.0\n",
       "bust size     0.0\n",
       "weight        0.0\n",
       "rating        0.0\n",
       "rented for    0.0\n",
       "body type     0.0\n",
       "category      0.0\n",
       "height        0.0\n",
       "size          0.0\n",
       "age           0.0\n",
       "dtype: float64"
      ]
     },
     "execution_count": 58,
     "metadata": {},
     "output_type": "execute_result"
    }
   ],
   "source": [
    "df.isnull().sum()/len(df) * 100"
   ]
  },
  {
   "cell_type": "markdown",
   "id": "6e736e63",
   "metadata": {},
   "source": [
    "Q9. Check the statistical summary for the numerical and categorical columns and\n",
    "write your findings. (3)"
   ]
  },
  {
   "cell_type": "code",
   "execution_count": 59,
   "id": "8574ed84",
   "metadata": {},
   "outputs": [
    {
     "data": {
      "text/html": [
       "<div>\n",
       "<style scoped>\n",
       "    .dataframe tbody tr th:only-of-type {\n",
       "        vertical-align: middle;\n",
       "    }\n",
       "\n",
       "    .dataframe tbody tr th {\n",
       "        vertical-align: top;\n",
       "    }\n",
       "\n",
       "    .dataframe thead th {\n",
       "        text-align: right;\n",
       "    }\n",
       "</style>\n",
       "<table border=\"1\" class=\"dataframe\">\n",
       "  <thead>\n",
       "    <tr style=\"text-align: right;\">\n",
       "      <th></th>\n",
       "      <th>weight</th>\n",
       "      <th>rating</th>\n",
       "      <th>height</th>\n",
       "      <th>size</th>\n",
       "      <th>age</th>\n",
       "    </tr>\n",
       "  </thead>\n",
       "  <tbody>\n",
       "    <tr>\n",
       "      <th>count</th>\n",
       "      <td>192544.000000</td>\n",
       "      <td>192544.000000</td>\n",
       "      <td>192544.000000</td>\n",
       "      <td>192544.000000</td>\n",
       "      <td>192544.000000</td>\n",
       "    </tr>\n",
       "    <tr>\n",
       "      <th>mean</th>\n",
       "      <td>137.019284</td>\n",
       "      <td>9.092758</td>\n",
       "      <td>65.309529</td>\n",
       "      <td>12.245175</td>\n",
       "      <td>33.861689</td>\n",
       "    </tr>\n",
       "    <tr>\n",
       "      <th>std</th>\n",
       "      <td>20.141448</td>\n",
       "      <td>1.429862</td>\n",
       "      <td>2.658857</td>\n",
       "      <td>8.494877</td>\n",
       "      <td>8.039050</td>\n",
       "    </tr>\n",
       "    <tr>\n",
       "      <th>min</th>\n",
       "      <td>50.000000</td>\n",
       "      <td>2.000000</td>\n",
       "      <td>54.000000</td>\n",
       "      <td>0.000000</td>\n",
       "      <td>0.000000</td>\n",
       "    </tr>\n",
       "    <tr>\n",
       "      <th>25%</th>\n",
       "      <td>125.000000</td>\n",
       "      <td>8.000000</td>\n",
       "      <td>63.000000</td>\n",
       "      <td>8.000000</td>\n",
       "      <td>29.000000</td>\n",
       "    </tr>\n",
       "    <tr>\n",
       "      <th>50%</th>\n",
       "      <td>135.000000</td>\n",
       "      <td>10.000000</td>\n",
       "      <td>65.000000</td>\n",
       "      <td>12.000000</td>\n",
       "      <td>32.000000</td>\n",
       "    </tr>\n",
       "    <tr>\n",
       "      <th>75%</th>\n",
       "      <td>145.000000</td>\n",
       "      <td>10.000000</td>\n",
       "      <td>67.000000</td>\n",
       "      <td>16.000000</td>\n",
       "      <td>37.000000</td>\n",
       "    </tr>\n",
       "    <tr>\n",
       "      <th>max</th>\n",
       "      <td>300.000000</td>\n",
       "      <td>10.000000</td>\n",
       "      <td>78.000000</td>\n",
       "      <td>58.000000</td>\n",
       "      <td>117.000000</td>\n",
       "    </tr>\n",
       "  </tbody>\n",
       "</table>\n",
       "</div>"
      ],
      "text/plain": [
       "              weight         rating         height           size  \\\n",
       "count  192544.000000  192544.000000  192544.000000  192544.000000   \n",
       "mean      137.019284       9.092758      65.309529      12.245175   \n",
       "std        20.141448       1.429862       2.658857       8.494877   \n",
       "min        50.000000       2.000000      54.000000       0.000000   \n",
       "25%       125.000000       8.000000      63.000000       8.000000   \n",
       "50%       135.000000      10.000000      65.000000      12.000000   \n",
       "75%       145.000000      10.000000      67.000000      16.000000   \n",
       "max       300.000000      10.000000      78.000000      58.000000   \n",
       "\n",
       "                 age  \n",
       "count  192544.000000  \n",
       "mean       33.861689  \n",
       "std         8.039050  \n",
       "min         0.000000  \n",
       "25%        29.000000  \n",
       "50%        32.000000  \n",
       "75%        37.000000  \n",
       "max       117.000000  "
      ]
     },
     "execution_count": 59,
     "metadata": {},
     "output_type": "execute_result"
    }
   ],
   "source": [
    "df.describe()"
   ]
  },
  {
   "cell_type": "markdown",
   "id": "1ea94286",
   "metadata": {},
   "source": [
    "Q10. Are there outliers present in the column age? If yes, treat them with the\n",
    "appropriate method. (3)"
   ]
  },
  {
   "cell_type": "code",
   "execution_count": 60,
   "id": "b534873c",
   "metadata": {},
   "outputs": [
    {
     "data": {
      "image/png": "[encoded data removed]",
      "text/plain": [
       "<Figure size 432x288 with 1 Axes>"
      ]
     },
     "metadata": {
      "needs_background": "light"
     },
     "output_type": "display_data"
    }
   ],
   "source": [
    "sns.boxplot(df['age'])\n",
    "plt.show()"
   ]
  },
  {
   "cell_type": "code",
   "execution_count": 62,
   "id": "9fc649d3",
   "metadata": {},
   "outputs": [
    {
     "name": "stdout",
     "output_type": "stream",
     "text": [
      "29.0\n",
      "37.0\n",
      "8.0\n"
     ]
    }
   ],
   "source": [
    "Q1 = df['age'].quantile(0.25)\n",
    "Q3 = df['age'].quantile(0.75)\n",
    "IQR = Q3-Q1\n",
    "print(Q1)\n",
    "print(Q3)\n",
    "print(IQR)"
   ]
  },
  {
   "cell_type": "code",
   "execution_count": 63,
   "id": "87f565e0",
   "metadata": {},
   "outputs": [
    {
     "name": "stdout",
     "output_type": "stream",
     "text": [
      "17.0\n",
      "49.0\n"
     ]
    }
   ],
   "source": [
    "lower_whisker = Q1-(1.5*IQR)\n",
    "upper_whisker = Q3+(1.5*IQR)\n",
    "print(lower_whisker)\n",
    "print(upper_whisker)\n"
   ]
  },
  {
   "cell_type": "code",
   "execution_count": 65,
   "id": "944c096d",
   "metadata": {},
   "outputs": [],
   "source": [
    "df_out = df.loc[(df['age'] < upper_whisker) & (df['age'] > lower_whisker)]"
   ]
  },
  {
   "cell_type": "code",
   "execution_count": 66,
   "id": "3f5410db",
   "metadata": {},
   "outputs": [
    {
     "data": {
      "image/png": "[encoded data removed]",
      "text/plain": [
       "<Figure size 432x288 with 1 Axes>"
      ]
     },
     "metadata": {
      "needs_background": "light"
     },
     "output_type": "display_data"
    }
   ],
   "source": [
    "sns.boxplot(df_out['age'])\n",
    "plt.show()"
   ]
  },
  {
   "cell_type": "markdown",
   "id": "1b4840f5",
   "metadata": {},
   "source": [
    "Q11. Check the distribution of the different categories in the column 'rented for'\n",
    "using appropriate plot. (2)"
   ]
  },
  {
   "cell_type": "code",
   "execution_count": 67,
   "id": "e6c0a6e4",
   "metadata": {},
   "outputs": [
    {
     "data": {
      "image/png": "[encoded data removed]",
      "text/plain": [
       "<Figure size 432x288 with 1 Axes>"
      ]
     },
     "metadata": {},
     "output_type": "display_data"
    }
   ],
   "source": [
    "df['rented for'].value_counts().plot(kind='pie',autopct='%1.1f%%')\n",
    "plt.show()"
   ]
  },
  {
   "cell_type": "markdown",
   "id": "da1e3f7f",
   "metadata": {},
   "source": [
    "● Data Preparation for model building: [ Score: 2 point ]"
   ]
  },
  {
   "cell_type": "markdown",
   "id": "574510fa",
   "metadata": {},
   "source": [
    "Q12. Encode the categorical variables in the dataset. (1)"
   ]
  },
  {
   "cell_type": "code",
   "execution_count": 68,
   "id": "d8e4f67d",
   "metadata": {},
   "outputs": [],
   "source": [
    "df1=df"
   ]
  },
  {
   "cell_type": "code",
   "execution_count": 69,
   "id": "e370a446",
   "metadata": {},
   "outputs": [
    {
     "data": {
      "text/plain": [
       "Index(['fit', 'bust size', 'rented for', 'body type', 'category'], dtype='object')"
      ]
     },
     "execution_count": 69,
     "metadata": {},
     "output_type": "execute_result"
    }
   ],
   "source": [
    "df1.select_dtypes('object').columns"
   ]
  },
  {
   "cell_type": "code",
   "execution_count": 70,
   "id": "ae2ac2c9",
   "metadata": {},
   "outputs": [],
   "source": [
    "from sklearn.preprocessing import LabelEncoder\n",
    "for col in df1.select_dtypes('object').columns:\n",
    "    le=LabelEncoder()\n",
    "    df1[col]=le.fit_transform(df1[col])"
   ]
  },
  {
   "cell_type": "code",
   "execution_count": 71,
   "id": "e42e17af",
   "metadata": {},
   "outputs": [
    {
     "data": {
      "text/html": [
       "<div>\n",
       "<style scoped>\n",
       "    .dataframe tbody tr th:only-of-type {\n",
       "        vertical-align: middle;\n",
       "    }\n",
       "\n",
       "    .dataframe tbody tr th {\n",
       "        vertical-align: top;\n",
       "    }\n",
       "\n",
       "    .dataframe thead th {\n",
       "        text-align: right;\n",
       "    }\n",
       "</style>\n",
       "<table border=\"1\" class=\"dataframe\">\n",
       "  <thead>\n",
       "    <tr style=\"text-align: right;\">\n",
       "      <th></th>\n",
       "      <th>fit</th>\n",
       "      <th>bust size</th>\n",
       "      <th>weight</th>\n",
       "      <th>rating</th>\n",
       "      <th>rented for</th>\n",
       "      <th>body type</th>\n",
       "      <th>category</th>\n",
       "      <th>height</th>\n",
       "      <th>size</th>\n",
       "      <th>age</th>\n",
       "    </tr>\n",
       "  </thead>\n",
       "  <tbody>\n",
       "    <tr>\n",
       "      <th>0</th>\n",
       "      <td>0</td>\n",
       "      <td>39</td>\n",
       "      <td>137.0</td>\n",
       "      <td>10.0</td>\n",
       "      <td>5</td>\n",
       "      <td>3</td>\n",
       "      <td>44</td>\n",
       "      <td>68.0</td>\n",
       "      <td>14</td>\n",
       "      <td>28.0</td>\n",
       "    </tr>\n",
       "    <tr>\n",
       "      <th>1</th>\n",
       "      <td>0</td>\n",
       "      <td>37</td>\n",
       "      <td>132.0</td>\n",
       "      <td>10.0</td>\n",
       "      <td>3</td>\n",
       "      <td>6</td>\n",
       "      <td>20</td>\n",
       "      <td>66.0</td>\n",
       "      <td>12</td>\n",
       "      <td>36.0</td>\n",
       "    </tr>\n",
       "    <tr>\n",
       "      <th>2</th>\n",
       "      <td>0</td>\n",
       "      <td>37</td>\n",
       "      <td>135.0</td>\n",
       "      <td>10.0</td>\n",
       "      <td>4</td>\n",
       "      <td>3</td>\n",
       "      <td>45</td>\n",
       "      <td>64.0</td>\n",
       "      <td>4</td>\n",
       "      <td>116.0</td>\n",
       "    </tr>\n",
       "    <tr>\n",
       "      <th>3</th>\n",
       "      <td>0</td>\n",
       "      <td>38</td>\n",
       "      <td>135.0</td>\n",
       "      <td>8.0</td>\n",
       "      <td>2</td>\n",
       "      <td>4</td>\n",
       "      <td>16</td>\n",
       "      <td>65.0</td>\n",
       "      <td>8</td>\n",
       "      <td>34.0</td>\n",
       "    </tr>\n",
       "    <tr>\n",
       "      <th>4</th>\n",
       "      <td>0</td>\n",
       "      <td>37</td>\n",
       "      <td>145.0</td>\n",
       "      <td>10.0</td>\n",
       "      <td>6</td>\n",
       "      <td>1</td>\n",
       "      <td>20</td>\n",
       "      <td>69.0</td>\n",
       "      <td>12</td>\n",
       "      <td>27.0</td>\n",
       "    </tr>\n",
       "    <tr>\n",
       "      <th>...</th>\n",
       "      <td>...</td>\n",
       "      <td>...</td>\n",
       "      <td>...</td>\n",
       "      <td>...</td>\n",
       "      <td>...</td>\n",
       "      <td>...</td>\n",
       "      <td>...</td>\n",
       "      <td>...</td>\n",
       "      <td>...</td>\n",
       "      <td>...</td>\n",
       "    </tr>\n",
       "    <tr>\n",
       "      <th>192539</th>\n",
       "      <td>0</td>\n",
       "      <td>41</td>\n",
       "      <td>140.0</td>\n",
       "      <td>10.0</td>\n",
       "      <td>7</td>\n",
       "      <td>3</td>\n",
       "      <td>26</td>\n",
       "      <td>69.0</td>\n",
       "      <td>8</td>\n",
       "      <td>42.0</td>\n",
       "    </tr>\n",
       "    <tr>\n",
       "      <th>192540</th>\n",
       "      <td>0</td>\n",
       "      <td>25</td>\n",
       "      <td>100.0</td>\n",
       "      <td>10.0</td>\n",
       "      <td>7</td>\n",
       "      <td>5</td>\n",
       "      <td>16</td>\n",
       "      <td>61.0</td>\n",
       "      <td>4</td>\n",
       "      <td>29.0</td>\n",
       "    </tr>\n",
       "    <tr>\n",
       "      <th>192541</th>\n",
       "      <td>0</td>\n",
       "      <td>48</td>\n",
       "      <td>135.0</td>\n",
       "      <td>6.0</td>\n",
       "      <td>1</td>\n",
       "      <td>6</td>\n",
       "      <td>16</td>\n",
       "      <td>68.0</td>\n",
       "      <td>8</td>\n",
       "      <td>31.0</td>\n",
       "    </tr>\n",
       "    <tr>\n",
       "      <th>192542</th>\n",
       "      <td>0</td>\n",
       "      <td>51</td>\n",
       "      <td>165.0</td>\n",
       "      <td>10.0</td>\n",
       "      <td>6</td>\n",
       "      <td>4</td>\n",
       "      <td>16</td>\n",
       "      <td>66.0</td>\n",
       "      <td>16</td>\n",
       "      <td>31.0</td>\n",
       "    </tr>\n",
       "    <tr>\n",
       "      <th>192543</th>\n",
       "      <td>0</td>\n",
       "      <td>50</td>\n",
       "      <td>155.0</td>\n",
       "      <td>10.0</td>\n",
       "      <td>6</td>\n",
       "      <td>1</td>\n",
       "      <td>20</td>\n",
       "      <td>66.0</td>\n",
       "      <td>16</td>\n",
       "      <td>30.0</td>\n",
       "    </tr>\n",
       "  </tbody>\n",
       "</table>\n",
       "<p>192544 rows × 10 columns</p>\n",
       "</div>"
      ],
      "text/plain": [
       "        fit  bust size  weight  rating  rented for  body type  category  \\\n",
       "0         0         39   137.0    10.0           5          3        44   \n",
       "1         0         37   132.0    10.0           3          6        20   \n",
       "2         0         37   135.0    10.0           4          3        45   \n",
       "3         0         38   135.0     8.0           2          4        16   \n",
       "4         0         37   145.0    10.0           6          1        20   \n",
       "...     ...        ...     ...     ...         ...        ...       ...   \n",
       "192539    0         41   140.0    10.0           7          3        26   \n",
       "192540    0         25   100.0    10.0           7          5        16   \n",
       "192541    0         48   135.0     6.0           1          6        16   \n",
       "192542    0         51   165.0    10.0           6          4        16   \n",
       "192543    0         50   155.0    10.0           6          1        20   \n",
       "\n",
       "        height  size    age  \n",
       "0         68.0    14   28.0  \n",
       "1         66.0    12   36.0  \n",
       "2         64.0     4  116.0  \n",
       "3         65.0     8   34.0  \n",
       "4         69.0    12   27.0  \n",
       "...        ...   ...    ...  \n",
       "192539    69.0     8   42.0  \n",
       "192540    61.0     4   29.0  \n",
       "192541    68.0     8   31.0  \n",
       "192542    66.0    16   31.0  \n",
       "192543    66.0    16   30.0  \n",
       "\n",
       "[192544 rows x 10 columns]"
      ]
     },
     "execution_count": 71,
     "metadata": {},
     "output_type": "execute_result"
    }
   ],
   "source": [
    "df1"
   ]
  },
  {
   "cell_type": "markdown",
   "id": "f2280c35",
   "metadata": {},
   "source": [
    "Q13. Standardize the data, so that the values are within a particular range. (1)"
   ]
  },
  {
   "cell_type": "code",
   "execution_count": 72,
   "id": "f6ea61aa",
   "metadata": {},
   "outputs": [
    {
     "name": "stdout",
     "output_type": "stream",
     "text": [
      "All features are now scaled\n"
     ]
    }
   ],
   "source": [
    "ds=df.select_dtypes(include=['int64','float64'])\n",
    "scaler =StandardScaler()\n",
    "scaler.fit(ds)\n",
    "scaled_ds =pd.DataFrame(scaler.transform(ds),columns=ds.columns)\n",
    "print(\"All features are now scaled\")"
   ]
  },
  {
   "cell_type": "code",
   "execution_count": 73,
   "id": "7d8bb15a",
   "metadata": {},
   "outputs": [
    {
     "data": {
      "text/html": [
       "<div>\n",
       "<style scoped>\n",
       "    .dataframe tbody tr th:only-of-type {\n",
       "        vertical-align: middle;\n",
       "    }\n",
       "\n",
       "    .dataframe tbody tr th {\n",
       "        vertical-align: top;\n",
       "    }\n",
       "\n",
       "    .dataframe thead th {\n",
       "        text-align: right;\n",
       "    }\n",
       "</style>\n",
       "<table border=\"1\" class=\"dataframe\">\n",
       "  <thead>\n",
       "    <tr style=\"text-align: right;\">\n",
       "      <th></th>\n",
       "      <th>weight</th>\n",
       "      <th>rating</th>\n",
       "      <th>height</th>\n",
       "      <th>size</th>\n",
       "      <th>age</th>\n",
       "    </tr>\n",
       "  </thead>\n",
       "  <tbody>\n",
       "    <tr>\n",
       "      <th>0</th>\n",
       "      <td>-0.000957</td>\n",
       "      <td>0.634498</td>\n",
       "      <td>1.011893</td>\n",
       "      <td>0.206575</td>\n",
       "      <td>-0.729154</td>\n",
       "    </tr>\n",
       "    <tr>\n",
       "      <th>1</th>\n",
       "      <td>-0.249202</td>\n",
       "      <td>0.634498</td>\n",
       "      <td>0.259688</td>\n",
       "      <td>-0.028862</td>\n",
       "      <td>0.265991</td>\n",
       "    </tr>\n",
       "    <tr>\n",
       "      <th>2</th>\n",
       "      <td>-0.100255</td>\n",
       "      <td>0.634498</td>\n",
       "      <td>-0.492517</td>\n",
       "      <td>-0.970608</td>\n",
       "      <td>10.217442</td>\n",
       "    </tr>\n",
       "    <tr>\n",
       "      <th>3</th>\n",
       "      <td>-0.100255</td>\n",
       "      <td>-0.764242</td>\n",
       "      <td>-0.116415</td>\n",
       "      <td>-0.499735</td>\n",
       "      <td>0.017205</td>\n",
       "    </tr>\n",
       "    <tr>\n",
       "      <th>4</th>\n",
       "      <td>0.396235</td>\n",
       "      <td>0.634498</td>\n",
       "      <td>1.387995</td>\n",
       "      <td>-0.028862</td>\n",
       "      <td>-0.853547</td>\n",
       "    </tr>\n",
       "    <tr>\n",
       "      <th>...</th>\n",
       "      <td>...</td>\n",
       "      <td>...</td>\n",
       "      <td>...</td>\n",
       "      <td>...</td>\n",
       "      <td>...</td>\n",
       "    </tr>\n",
       "    <tr>\n",
       "      <th>192539</th>\n",
       "      <td>0.147990</td>\n",
       "      <td>0.634498</td>\n",
       "      <td>1.387995</td>\n",
       "      <td>-0.499735</td>\n",
       "      <td>1.012350</td>\n",
       "    </tr>\n",
       "    <tr>\n",
       "      <th>192540</th>\n",
       "      <td>-1.837970</td>\n",
       "      <td>0.634498</td>\n",
       "      <td>-1.620824</td>\n",
       "      <td>-0.970608</td>\n",
       "      <td>-0.604761</td>\n",
       "    </tr>\n",
       "    <tr>\n",
       "      <th>192541</th>\n",
       "      <td>-0.100255</td>\n",
       "      <td>-2.162982</td>\n",
       "      <td>1.011893</td>\n",
       "      <td>-0.499735</td>\n",
       "      <td>-0.355974</td>\n",
       "    </tr>\n",
       "    <tr>\n",
       "      <th>192542</th>\n",
       "      <td>1.389214</td>\n",
       "      <td>0.634498</td>\n",
       "      <td>0.259688</td>\n",
       "      <td>0.442012</td>\n",
       "      <td>-0.355974</td>\n",
       "    </tr>\n",
       "    <tr>\n",
       "      <th>192543</th>\n",
       "      <td>0.892724</td>\n",
       "      <td>0.634498</td>\n",
       "      <td>0.259688</td>\n",
       "      <td>0.442012</td>\n",
       "      <td>-0.480368</td>\n",
       "    </tr>\n",
       "  </tbody>\n",
       "</table>\n",
       "<p>192544 rows × 5 columns</p>\n",
       "</div>"
      ],
      "text/plain": [
       "          weight    rating    height      size        age\n",
       "0      -0.000957  0.634498  1.011893  0.206575  -0.729154\n",
       "1      -0.249202  0.634498  0.259688 -0.028862   0.265991\n",
       "2      -0.100255  0.634498 -0.492517 -0.970608  10.217442\n",
       "3      -0.100255 -0.764242 -0.116415 -0.499735   0.017205\n",
       "4       0.396235  0.634498  1.387995 -0.028862  -0.853547\n",
       "...          ...       ...       ...       ...        ...\n",
       "192539  0.147990  0.634498  1.387995 -0.499735   1.012350\n",
       "192540 -1.837970  0.634498 -1.620824 -0.970608  -0.604761\n",
       "192541 -0.100255 -2.162982  1.011893 -0.499735  -0.355974\n",
       "192542  1.389214  0.634498  0.259688  0.442012  -0.355974\n",
       "192543  0.892724  0.634498  0.259688  0.442012  -0.480368\n",
       "\n",
       "[192544 rows x 5 columns]"
      ]
     },
     "execution_count": 73,
     "metadata": {},
     "output_type": "execute_result"
    }
   ],
   "source": [
    "scaled_ds"
   ]
  },
  {
   "cell_type": "markdown",
   "id": "d8a60a1d",
   "metadata": {},
   "source": [
    "● Principal Component Analysis and Clustering: [ Score: 23 point ]"
   ]
  },
  {
   "cell_type": "markdown",
   "id": "b9fe10d6",
   "metadata": {},
   "source": [
    "14. Apply PCA on the above dataset and determine the number of PCA\n",
    "components to be used so that 90-95% of the variance in data is explained by\n",
    "the same. (7)"
   ]
  },
  {
   "cell_type": "code",
   "execution_count": 92,
   "id": "2bdb3c2f",
   "metadata": {},
   "outputs": [
    {
     "name": "stdout",
     "output_type": "stream",
     "text": [
      "Covariance matrix \n",
      " [[ 1.00000519 -0.02084852  0.34905585  0.72339105  0.06298221]\n",
      " [-0.02084852  1.00000519  0.00174836 -0.03672869 -0.03513107]\n",
      " [ 0.34905585  0.00174836  1.00000519  0.22842543 -0.00728095]\n",
      " [ 0.72339105 -0.03672869  0.22842543  1.00000519  0.15512023]\n",
      " [ 0.06298221 -0.03513107 -0.00728095  0.15512023  1.00000519]]\n"
     ]
    }
   ],
   "source": [
    "##step1\n",
    "cov_matrix =np.cov(scaled_ds.T)\n",
    "print('Covariance matrix','\\n',cov_matrix)"
   ]
  },
  {
   "cell_type": "code",
   "execution_count": 93,
   "id": "a0ece24f",
   "metadata": {},
   "outputs": [
    {
     "name": "stdout",
     "output_type": "stream",
     "text": [
      "eigein values: \n",
      " [1.92989844 0.26019874 0.79489824 1.04381115 0.9712194 ]\n",
      "\n",
      "\n",
      "eigein vectors: \n",
      " [[ 0.64978434 -0.71787361 -0.23771403 -0.07379837 -0.02199159]\n",
      " [-0.04425833  0.00942202 -0.03255246 -0.611652    0.78916069]\n",
      " [ 0.39729351  0.12807376  0.82112115 -0.33220862 -0.20286074]\n",
      " [ 0.62944555  0.67957257 -0.36199491  0.07637772  0.07145316]\n",
      " [ 0.14757259 -0.0796677   0.37034056  0.71009824  0.57487716]]\n"
     ]
    }
   ],
   "source": [
    "##step2\n",
    "eig_vals,eig_vectors = np.linalg.eig(cov_matrix)\n",
    "print('eigein values:','\\n',eig_vals)\n",
    "print('\\n')\n",
    "print('eigein vectors:','\\n',eig_vectors)"
   ]
  },
  {
   "cell_type": "code",
   "execution_count": 94,
   "id": "ca6b65a7",
   "metadata": {},
   "outputs": [
    {
     "name": "stdout",
     "output_type": "stream",
     "text": [
      "Variance Explained:  [38.59776829464454, 20.876114510644467, 19.424287212898353, 15.897882155747029, 5.203947826065603]\n",
      "Cummulative Variance Explained: [ 38.59776829  59.47388281  78.89817002  94.79605217 100.        ]\n"
     ]
    }
   ],
   "source": [
    "##step 3\n",
    "total = sum(eig_vals)\n",
    "var_exp = [(i/total)*100 for i in sorted(eig_vals,reverse=True)]\n",
    "cum_var_exp = np.cumsum(var_exp)\n",
    "print('Variance Explained: ',var_exp)\n",
    "print('Cummulative Variance Explained:',cum_var_exp)"
   ]
  },
  {
   "cell_type": "code",
   "execution_count": 95,
   "id": "6e06dacc",
   "metadata": {},
   "outputs": [
    {
     "ename": "AttributeError",
     "evalue": "module 'matplotlib.pyplot' has no attribute 'ylable'",
     "output_type": "error",
     "traceback": [
      "\u001b[1;31m---------------------------------------------------------------------------\u001b[0m",
      "\u001b[1;31mAttributeError\u001b[0m                            Traceback (most recent call last)",
      "\u001b[1;32m~\\AppData\\Local\\Temp/ipykernel_12912/1271729952.py\u001b[0m in \u001b[0;36m<module>\u001b[1;34m\u001b[0m\n\u001b[0;32m      2\u001b[0m \u001b[0mplt\u001b[0m\u001b[1;33m.\u001b[0m\u001b[0mstep\u001b[0m\u001b[1;33m(\u001b[0m\u001b[0mrange\u001b[0m\u001b[1;33m(\u001b[0m\u001b[1;36m5\u001b[0m\u001b[1;33m)\u001b[0m\u001b[1;33m,\u001b[0m \u001b[0mcum_var_exp\u001b[0m\u001b[1;33m,\u001b[0m \u001b[0mwhere\u001b[0m\u001b[1;33m=\u001b[0m\u001b[1;34m'mid'\u001b[0m\u001b[1;33m,\u001b[0m\u001b[0mcolor\u001b[0m\u001b[1;33m=\u001b[0m\u001b[1;34m'red'\u001b[0m\u001b[1;33m,\u001b[0m\u001b[0mlabel\u001b[0m\u001b[1;33m=\u001b[0m\u001b[1;34m'Cummulative Explained Variance'\u001b[0m\u001b[1;33m)\u001b[0m\u001b[1;33m\u001b[0m\u001b[1;33m\u001b[0m\u001b[0m\n\u001b[0;32m      3\u001b[0m \u001b[0mplt\u001b[0m\u001b[1;33m.\u001b[0m\u001b[0mlegend\u001b[0m\u001b[1;33m(\u001b[0m\u001b[0mloc\u001b[0m \u001b[1;33m=\u001b[0m \u001b[1;34m'best'\u001b[0m\u001b[1;33m)\u001b[0m\u001b[1;33m\u001b[0m\u001b[1;33m\u001b[0m\u001b[0m\n\u001b[1;32m----> 4\u001b[1;33m \u001b[0mplt\u001b[0m\u001b[1;33m.\u001b[0m\u001b[0mylable\u001b[0m\u001b[1;33m(\u001b[0m\u001b[1;34m'Explained Variance Ratio'\u001b[0m\u001b[1;33m)\u001b[0m\u001b[1;33m\u001b[0m\u001b[1;33m\u001b[0m\u001b[0m\n\u001b[0m\u001b[0;32m      5\u001b[0m \u001b[0mplt\u001b[0m\u001b[1;33m.\u001b[0m\u001b[0mxlable\u001b[0m\u001b[1;33m(\u001b[0m\u001b[1;34m'Principal Components'\u001b[0m\u001b[1;33m)\u001b[0m\u001b[1;33m\u001b[0m\u001b[1;33m\u001b[0m\u001b[0m\n\u001b[0;32m      6\u001b[0m \u001b[0mplt\u001b[0m\u001b[1;33m.\u001b[0m\u001b[0mtight_layout\u001b[0m\u001b[1;33m(\u001b[0m\u001b[1;33m)\u001b[0m\u001b[1;33m\u001b[0m\u001b[1;33m\u001b[0m\u001b[0m\n",
      "\u001b[1;31mAttributeError\u001b[0m: module 'matplotlib.pyplot' has no attribute 'ylable'"
     ]
    },
    {
     "data": {
      "image/png": "[encoded data removed]",
      "text/plain": [
       "<Figure size 432x288 with 1 Axes>"
      ]
     },
     "metadata": {
      "needs_background": "light"
     },
     "output_type": "display_data"
    }
   ],
   "source": [
    "plt.bar(range(5),var_exp, align='center',color='lightgreen',edgecolor='black',label='Indiviual Explained Variance')\n",
    "plt.step(range(5), cum_var_exp, where='mid',color='red',label='Cummulative Explained Variance')\n",
    "plt.legend(loc = 'best')\n",
    "plt.ylable('Explained Variance Ratio')\n",
    "plt.xlable('Principal Components')\n",
    "plt.tight_layout()\n",
    "plt.show()"
   ]
  },
  {
   "cell_type": "markdown",
   "id": "2e1178d3",
   "metadata": {},
   "source": [
    "### 15. Apply K-means clustering and segment the data. (You may use original data or PCA transformed data) (8)\n",
    "a. Find the optimal K Value using elbow plot for K Means clustering. \n",
    "b. Build a Kmeans clustering model using the obtained optimal K value from the elbow plot.\n",
    "c. Compute silhouette score for evaluating the quality of the K Means clustering technique."
   ]
  },
  {
   "cell_type": "code",
   "execution_count": 98,
   "id": "bcb62718",
   "metadata": {},
   "outputs": [
    {
     "data": {
      "text/plain": [
       "PCA(n_components=5)"
      ]
     },
     "execution_count": 98,
     "metadata": {},
     "output_type": "execute_result"
    }
   ],
   "source": [
    "pca =PCA(n_components = 5)\n",
    "pca.fit(scaled_ds)"
   ]
  },
  {
   "cell_type": "code",
   "execution_count": 99,
   "id": "ff0579ef",
   "metadata": {},
   "outputs": [
    {
     "data": {
      "text/html": [
       "<div>\n",
       "<style scoped>\n",
       "    .dataframe tbody tr th:only-of-type {\n",
       "        vertical-align: middle;\n",
       "    }\n",
       "\n",
       "    .dataframe tbody tr th {\n",
       "        vertical-align: top;\n",
       "    }\n",
       "\n",
       "    .dataframe thead th {\n",
       "        text-align: right;\n",
       "    }\n",
       "</style>\n",
       "<table border=\"1\" class=\"dataframe\">\n",
       "  <thead>\n",
       "    <tr style=\"text-align: right;\">\n",
       "      <th></th>\n",
       "      <th>PC1</th>\n",
       "      <th>PC2</th>\n",
       "      <th>PC3</th>\n",
       "      <th>PC4</th>\n",
       "      <th>PC5</th>\n",
       "    </tr>\n",
       "  </thead>\n",
       "  <tbody>\n",
       "    <tr>\n",
       "      <th>0</th>\n",
       "      <td>0.395739</td>\n",
       "      <td>-1.226174</td>\n",
       "      <td>-0.108945</td>\n",
       "      <td>0.465645</td>\n",
       "      <td>0.334735</td>\n",
       "    </tr>\n",
       "    <tr>\n",
       "      <th>1</th>\n",
       "      <td>-0.065751</td>\n",
       "      <td>-0.269296</td>\n",
       "      <td>0.604371</td>\n",
       "      <td>0.360775</td>\n",
       "      <td>0.177329</td>\n",
       "    </tr>\n",
       "    <tr>\n",
       "      <th>2</th>\n",
       "      <td>0.607969</td>\n",
       "      <td>6.964180</td>\n",
       "      <td>6.407259</td>\n",
       "      <td>3.734050</td>\n",
       "      <td>-1.458728</td>\n",
       "    </tr>\n",
       "    <tr>\n",
       "      <th>3</th>\n",
       "      <td>-0.389588</td>\n",
       "      <td>0.487571</td>\n",
       "      <td>-0.603106</td>\n",
       "      <td>0.140393</td>\n",
       "      <td>-0.291116</td>\n",
       "    </tr>\n",
       "    <tr>\n",
       "      <th>4</th>\n",
       "      <td>0.636700</td>\n",
       "      <td>-1.486744</td>\n",
       "      <td>-0.282310</td>\n",
       "      <td>0.719212</td>\n",
       "      <td>-0.052316</td>\n",
       "    </tr>\n",
       "  </tbody>\n",
       "</table>\n",
       "</div>"
      ],
      "text/plain": [
       "        PC1       PC2       PC3       PC4       PC5\n",
       "0  0.395739 -1.226174 -0.108945  0.465645  0.334735\n",
       "1 -0.065751 -0.269296  0.604371  0.360775  0.177329\n",
       "2  0.607969  6.964180  6.407259  3.734050 -1.458728\n",
       "3 -0.389588  0.487571 -0.603106  0.140393 -0.291116\n",
       "4  0.636700 -1.486744 -0.282310  0.719212 -0.052316"
      ]
     },
     "execution_count": 99,
     "metadata": {},
     "output_type": "execute_result"
    }
   ],
   "source": [
    "data_pca = pca.transform(scaled_ds)\n",
    "data_pca = pd.DataFrame(data_pca,columns=['PC1','PC2','PC3','PC4','PC5'])\n",
    "data_pca.head()"
   ]
  },
  {
   "cell_type": "code",
   "execution_count": 102,
   "id": "1994ea26",
   "metadata": {},
   "outputs": [
    {
     "data": {
      "text/html": [
       "<div>\n",
       "<style scoped>\n",
       "    .dataframe tbody tr th:only-of-type {\n",
       "        vertical-align: middle;\n",
       "    }\n",
       "\n",
       "    .dataframe tbody tr th {\n",
       "        vertical-align: top;\n",
       "    }\n",
       "\n",
       "    .dataframe thead th {\n",
       "        text-align: right;\n",
       "    }\n",
       "</style>\n",
       "<table border=\"1\" class=\"dataframe\">\n",
       "  <thead>\n",
       "    <tr style=\"text-align: right;\">\n",
       "      <th></th>\n",
       "      <th>num_clusters</th>\n",
       "      <th>cluster_errors</th>\n",
       "    </tr>\n",
       "  </thead>\n",
       "  <tbody>\n",
       "    <tr>\n",
       "      <th>0</th>\n",
       "      <td>1</td>\n",
       "      <td>962720.000000</td>\n",
       "    </tr>\n",
       "    <tr>\n",
       "      <th>1</th>\n",
       "      <td>2</td>\n",
       "      <td>738070.088691</td>\n",
       "    </tr>\n",
       "    <tr>\n",
       "      <th>2</th>\n",
       "      <td>3</td>\n",
       "      <td>635094.646008</td>\n",
       "    </tr>\n",
       "    <tr>\n",
       "      <th>3</th>\n",
       "      <td>4</td>\n",
       "      <td>554765.309373</td>\n",
       "    </tr>\n",
       "    <tr>\n",
       "      <th>4</th>\n",
       "      <td>5</td>\n",
       "      <td>482053.370951</td>\n",
       "    </tr>\n",
       "    <tr>\n",
       "      <th>5</th>\n",
       "      <td>6</td>\n",
       "      <td>442080.510944</td>\n",
       "    </tr>\n",
       "    <tr>\n",
       "      <th>6</th>\n",
       "      <td>7</td>\n",
       "      <td>411768.713227</td>\n",
       "    </tr>\n",
       "    <tr>\n",
       "      <th>7</th>\n",
       "      <td>8</td>\n",
       "      <td>385812.264660</td>\n",
       "    </tr>\n",
       "    <tr>\n",
       "      <th>8</th>\n",
       "      <td>9</td>\n",
       "      <td>366024.725276</td>\n",
       "    </tr>\n",
       "    <tr>\n",
       "      <th>9</th>\n",
       "      <td>10</td>\n",
       "      <td>348895.314590</td>\n",
       "    </tr>\n",
       "    <tr>\n",
       "      <th>10</th>\n",
       "      <td>11</td>\n",
       "      <td>334423.509287</td>\n",
       "    </tr>\n",
       "    <tr>\n",
       "      <th>11</th>\n",
       "      <td>12</td>\n",
       "      <td>322105.762030</td>\n",
       "    </tr>\n",
       "    <tr>\n",
       "      <th>12</th>\n",
       "      <td>13</td>\n",
       "      <td>308706.953111</td>\n",
       "    </tr>\n",
       "    <tr>\n",
       "      <th>13</th>\n",
       "      <td>14</td>\n",
       "      <td>299245.412140</td>\n",
       "    </tr>\n",
       "  </tbody>\n",
       "</table>\n",
       "</div>"
      ],
      "text/plain": [
       "    num_clusters  cluster_errors\n",
       "0              1   962720.000000\n",
       "1              2   738070.088691\n",
       "2              3   635094.646008\n",
       "3              4   554765.309373\n",
       "4              5   482053.370951\n",
       "5              6   442080.510944\n",
       "6              7   411768.713227\n",
       "7              8   385812.264660\n",
       "8              9   366024.725276\n",
       "9             10   348895.314590\n",
       "10            11   334423.509287\n",
       "11            12   322105.762030\n",
       "12            13   308706.953111\n",
       "13            14   299245.412140"
      ]
     },
     "execution_count": 102,
     "metadata": {},
     "output_type": "execute_result"
    }
   ],
   "source": [
    "##finding optimal k value by KMeans clusters using Elbow plot\n",
    "cluster_range = range(1,15)\n",
    "cluster_errors = []\n",
    "\n",
    "for num_clusters in cluster_range:\n",
    "    clusters  = KMeans(num_clusters,n_init=8)\n",
    "    clusters.fit(data_pca)\n",
    "    labels = clusters.labels_\n",
    "    centroids = clusters.cluster_centers_\n",
    "    \n",
    "    cluster_errors.append(clusters.inertia_)\n",
    "clusters_df = pd.DataFrame({'num_clusters':cluster_range,\n",
    "                           'cluster_errors':cluster_errors})   \n",
    "clusters_df\n",
    "    "
   ]
  },
  {
   "cell_type": "code",
   "execution_count": 105,
   "id": "dc60c21b",
   "metadata": {},
   "outputs": [
    {
     "data": {
      "image/png": "[encoded data removed]",
      "text/plain": [
       "<Figure size 1080x360 with 1 Axes>"
      ]
     },
     "metadata": {
      "needs_background": "light"
     },
     "output_type": "display_data"
    }
   ],
   "source": [
    "plt.figure(figsize=[15,5])\n",
    "plt.title('The Elbow Method')\n",
    "plt.xlabel('Number of cluster using PCA')\n",
    "plt.plot(clusters_df['num_clusters'],clusters_df['cluster_errors'],marker='o',color='b')\n",
    "plt.show()"
   ]
  },
  {
   "cell_type": "code",
   "execution_count": 111,
   "id": "33936356",
   "metadata": {},
   "outputs": [
    {
     "data": {
      "text/plain": [
       "KMeans(n_clusters=3, n_init=15, random_state=100)"
      ]
     },
     "execution_count": 111,
     "metadata": {},
     "output_type": "execute_result"
    }
   ],
   "source": [
    "## Fit the KMeans clustering models using the obtained optimal k\n",
    "kmeans = KMeans(n_clusters=3, n_init=15, random_state=100)\n",
    "kmeans.fit(data_pca)"
   ]
  },
  {
   "cell_type": "code",
   "execution_count": 112,
   "id": "de20b0ea",
   "metadata": {},
   "outputs": [
    {
     "data": {
      "text/plain": [
       "array([0, 0, 1, ..., 2, 1, 1])"
      ]
     },
     "execution_count": 112,
     "metadata": {},
     "output_type": "execute_result"
    }
   ],
   "source": [
    "##obtained labels from kmeans clustering\n",
    "kmeans.labels_"
   ]
  },
  {
   "cell_type": "code",
   "execution_count": 117,
   "id": "88663b3c",
   "metadata": {},
   "outputs": [
    {
     "data": {
      "text/html": [
       "<div>\n",
       "<style scoped>\n",
       "    .dataframe tbody tr th:only-of-type {\n",
       "        vertical-align: middle;\n",
       "    }\n",
       "\n",
       "    .dataframe tbody tr th {\n",
       "        vertical-align: top;\n",
       "    }\n",
       "\n",
       "    .dataframe thead th {\n",
       "        text-align: right;\n",
       "    }\n",
       "</style>\n",
       "<table border=\"1\" class=\"dataframe\">\n",
       "  <thead>\n",
       "    <tr style=\"text-align: right;\">\n",
       "      <th></th>\n",
       "      <th>PC1</th>\n",
       "      <th>PC2</th>\n",
       "      <th>PC3</th>\n",
       "      <th>PC4</th>\n",
       "      <th>PC5</th>\n",
       "      <th>labels</th>\n",
       "    </tr>\n",
       "  </thead>\n",
       "  <tbody>\n",
       "    <tr>\n",
       "      <th>0</th>\n",
       "      <td>0.395739</td>\n",
       "      <td>-1.226174</td>\n",
       "      <td>-0.108945</td>\n",
       "      <td>0.465645</td>\n",
       "      <td>0.334735</td>\n",
       "      <td>0</td>\n",
       "    </tr>\n",
       "    <tr>\n",
       "      <th>1</th>\n",
       "      <td>-0.065751</td>\n",
       "      <td>-0.269296</td>\n",
       "      <td>0.604371</td>\n",
       "      <td>0.360775</td>\n",
       "      <td>0.177329</td>\n",
       "      <td>0</td>\n",
       "    </tr>\n",
       "    <tr>\n",
       "      <th>2</th>\n",
       "      <td>0.607969</td>\n",
       "      <td>6.964180</td>\n",
       "      <td>6.407259</td>\n",
       "      <td>3.734050</td>\n",
       "      <td>-1.458728</td>\n",
       "      <td>1</td>\n",
       "    </tr>\n",
       "    <tr>\n",
       "      <th>3</th>\n",
       "      <td>-0.389588</td>\n",
       "      <td>0.487571</td>\n",
       "      <td>-0.603106</td>\n",
       "      <td>0.140393</td>\n",
       "      <td>-0.291116</td>\n",
       "      <td>2</td>\n",
       "    </tr>\n",
       "    <tr>\n",
       "      <th>4</th>\n",
       "      <td>0.636700</td>\n",
       "      <td>-1.486744</td>\n",
       "      <td>-0.282310</td>\n",
       "      <td>0.719212</td>\n",
       "      <td>-0.052316</td>\n",
       "      <td>1</td>\n",
       "    </tr>\n",
       "  </tbody>\n",
       "</table>\n",
       "</div>"
      ],
      "text/plain": [
       "        PC1       PC2       PC3       PC4       PC5  labels\n",
       "0  0.395739 -1.226174 -0.108945  0.465645  0.334735       0\n",
       "1 -0.065751 -0.269296  0.604371  0.360775  0.177329       0\n",
       "2  0.607969  6.964180  6.407259  3.734050 -1.458728       1\n",
       "3 -0.389588  0.487571 -0.603106  0.140393 -0.291116       2\n",
       "4  0.636700 -1.486744 -0.282310  0.719212 -0.052316       1"
      ]
     },
     "execution_count": 117,
     "metadata": {},
     "output_type": "execute_result"
    }
   ],
   "source": [
    "##Creating a new dataframe only for labels.\n",
    "df_labels = pd.DataFrame(kmeans.labels_, columns=list(['labels']))\n",
    "kmeans_df=data_pca.join(df_labels)\n",
    "kmeans_df.head(5)"
   ]
  },
  {
   "cell_type": "code",
   "execution_count": null,
   "id": "76dd5450",
   "metadata": {},
   "outputs": [],
   "source": [
    "kmeans_df['Labels'].value_counts()"
   ]
  },
  {
   "cell_type": "code",
   "execution_count": null,
   "id": "4acbf04f",
   "metadata": {},
   "outputs": [],
   "source": [
    "from sklearn.metrics import silhouette_score\n",
    "kmeans_score = []\n",
    "\n",
    "for i in range(2,15):\n",
    "    kmeans = KMeans(n_clusters=i)\n",
    "    Kmeans = kmeans.fit(data_pca)\n",
    "    labels = kmeans.predict(data_pca)\n",
    "    print(i,silhouette_score(data_pca,labels))"
   ]
  },
  {
   "cell_type": "code",
   "execution_count": null,
   "id": "092f823b",
   "metadata": {},
   "outputs": [],
   "source": []
  },
  {
   "cell_type": "markdown",
   "id": "2dc7406d",
   "metadata": {},
   "source": [
    "16. Apply Agglomerative clustering and segment the data. (You may use\n",
    "original data or PCA transformed data) (8)\n",
    "\n",
    "a. Find the optimal K Value using dendrogram for Agglomerative clustering.\n",
    "b. Build a Agglomerative clustering model using the obtained optimal K\n",
    "value observed from dendrogram.\n",
    "c. Compute silhouette score for evaluating the quality of the Agglomerative\n",
    "clustering technique. (Hint: Take a sample of the dataset for agglomerative\n",
    "clustering to reduce the computational time)"
   ]
  },
  {
   "cell_type": "code",
   "execution_count": null,
   "id": "ec402bf8",
   "metadata": {},
   "outputs": [],
   "source": [
    "plt.figure(figsize=[18,5])\n",
    "merg = linkage(scaled_features,method='ward')\n",
    "dendrogram(merg,leaf_rotation=90,)\n",
    "plt.xlabel('Datapoints')\n",
    "plt.ylable('Euclidean distance')\n",
    "plt.show()"
   ]
  },
  {
   "cell_type": "markdown",
   "id": "980ab4d6",
   "metadata": {},
   "source": [
    "● Conclusion : [ Score: 2 point ]\n",
    "    \n",
    "17. Perform cluster analysis by doing bivariate analysis between cluster labels\n",
    "and different features and write your conclusion on the results. (2)"
   ]
  },
  {
   "cell_type": "code",
   "execution_count": 53,
   "id": "b10214da",
   "metadata": {
    "scrolled": true
   },
   "outputs": [
    {
     "data": {
      "image/png": "[encoded data removed]",
      "text/plain": [
       "<Figure size 432x432 with 1 Axes>"
      ]
     },
     "metadata": {
      "needs_background": "light"
     },
     "output_type": "display_data"
    }
   ],
   "source": [
    "df = pd.read_csv('C:/Users/ANUbrr/Documents/DrSVRajashekararadhya_project_2_Python for DS/renttherunway.csv')\n",
    "# Plot the data\n",
    "plt.figure(figsize=(6, 6))\n",
    "plt.scatter(df.iloc[:, 0], df.iloc[:, 1])\n",
    "plt.xlabel('Eruption time in mins')\n",
    "plt.ylabel('Waiting time to next eruption')\n",
    "plt.title('Visualization of raw data');"
   ]
  },
  {
   "cell_type": "markdown",
   "id": "acc65f46",
   "metadata": {},
   "source": [
    "Thank you"
   ]
  }
 ],
 "metadata": {
  "kernelspec": {
   "display_name": "Python 3 (ipykernel)",
   "language": "python",
   "name": "python3"
  },
  "language_info": {
   "codemirror_mode": {
    "name": "ipython",
    "version": 3
   },
   "file_extension": ".py",
   "mimetype": "text/x-python",
   "name": "python",
   "nbconvert_exporter": "python",
   "pygments_lexer": "ipython3",
   "version": "3.9.12"
  }
 },
 "nbformat": 4,
 "nbformat_minor": 5
}
